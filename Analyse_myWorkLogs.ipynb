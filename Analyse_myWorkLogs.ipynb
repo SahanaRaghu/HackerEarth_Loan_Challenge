{
  "nbformat": 4,
  "nbformat_minor": 0,
  "metadata": {
    "colab": {
      "name": "Analyse_myWorkLogs.ipynb",
      "version": "0.3.2",
      "provenance": [],
      "include_colab_link": true
    },
    "kernelspec": {
      "name": "python3",
      "display_name": "Python 3"
    }
  },
  "cells": [
    {
      "cell_type": "markdown",
      "metadata": {
        "id": "view-in-github",
        "colab_type": "text"
      },
      "source": [
        "<a href=\"https://colab.research.google.com/github/SahanaRaghu/HackerEarth_Loan_Challenge/blob/master/Analyse_myWorkLogs.ipynb\" target=\"_parent\"><img src=\"https://colab.research.google.com/assets/colab-badge.svg\" alt=\"Open In Colab\"/></a>"
      ]
    },
    {
      "metadata": {
        "id": "2vMin8R6MPzU",
        "colab_type": "code",
        "colab": {}
      },
      "cell_type": "code",
      "source": [
        "import json\n",
        "\n",
        "import csv\n",
        "\n",
        "log_parsed = json.loads(\"/Users/z073862/Documents/ML/myWork_log_analysis/mywork_logs/logs.json\")\n",
        "\n",
        "log_data = log_parsed['response']\n",
        "\n",
        "# open a file for writing\n",
        "\n",
        "log_file_data = open('/tmp/EmployData.csv', 'w')\n",
        "\n",
        "# create the csv writer object\n",
        "\n",
        "csvwriter = csv.writer(log_file_data)\n",
        "\n",
        "count = 0\n",
        "\n",
        "for log in log_data:\n",
        "\n",
        "      if count == 0:\n",
        "\n",
        "             header = log.keys()\n",
        "\n",
        "             csvwriter.writerow(header)\n",
        "\n",
        "             count += 1\n",
        "\n",
        "      csvwriter.writerow(log.values())\n",
        "\n",
        "log_file_data.close()"
      ],
      "execution_count": 0,
      "outputs": []
    }
  ]
}